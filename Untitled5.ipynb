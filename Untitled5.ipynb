{
  "nbformat": 4,
  "nbformat_minor": 0,
  "metadata": {
    "colab": {
      "provenance": []
    },
    "kernelspec": {
      "name": "python3",
      "display_name": "Python 3"
    },
    "language_info": {
      "name": "python"
    }
  },
  "cells": [
    {
      "cell_type": "code",
      "execution_count": null,
      "metadata": {
        "colab": {
          "base_uri": "https://localhost:8080/",
          "height": 1000
        },
        "id": "DOSqNlm67fL5",
        "outputId": "d2a0a06c-dcf8-4a6e-db0a-75cdd32c965e"
      },
      "outputs": [
        {
          "output_type": "stream",
          "name": "stdout",
          "text": [
            "Requirement already satisfied: seaborn in /usr/local/lib/python3.10/dist-packages (0.13.1)\n",
            "Collecting seaborn\n",
            "  Downloading seaborn-0.13.2-py3-none-any.whl (294 kB)\n",
            "\u001b[2K     \u001b[90m━━━━━━━━━━━━━━━━━━━━━━━━━━━━━━━━━━━━━━━━\u001b[0m \u001b[32m294.9/294.9 kB\u001b[0m \u001b[31m1.9 MB/s\u001b[0m eta \u001b[36m0:00:00\u001b[0m\n",
            "\u001b[?25hRequirement already satisfied: numpy!=1.24.0,>=1.20 in /usr/local/lib/python3.10/dist-packages (from seaborn) (1.25.2)\n",
            "Requirement already satisfied: pandas>=1.2 in /usr/local/lib/python3.10/dist-packages (from seaborn) (1.5.3)\n",
            "Requirement already satisfied: matplotlib!=3.6.1,>=3.4 in /usr/local/lib/python3.10/dist-packages (from seaborn) (3.7.1)\n",
            "Requirement already satisfied: contourpy>=1.0.1 in /usr/local/lib/python3.10/dist-packages (from matplotlib!=3.6.1,>=3.4->seaborn) (1.2.0)\n",
            "Requirement already satisfied: cycler>=0.10 in /usr/local/lib/python3.10/dist-packages (from matplotlib!=3.6.1,>=3.4->seaborn) (0.12.1)\n",
            "Requirement already satisfied: fonttools>=4.22.0 in /usr/local/lib/python3.10/dist-packages (from matplotlib!=3.6.1,>=3.4->seaborn) (4.50.0)\n",
            "Requirement already satisfied: kiwisolver>=1.0.1 in /usr/local/lib/python3.10/dist-packages (from matplotlib!=3.6.1,>=3.4->seaborn) (1.4.5)\n",
            "Requirement already satisfied: packaging>=20.0 in /usr/local/lib/python3.10/dist-packages (from matplotlib!=3.6.1,>=3.4->seaborn) (24.0)\n",
            "Requirement already satisfied: pillow>=6.2.0 in /usr/local/lib/python3.10/dist-packages (from matplotlib!=3.6.1,>=3.4->seaborn) (9.4.0)\n",
            "Requirement already satisfied: pyparsing>=2.3.1 in /usr/local/lib/python3.10/dist-packages (from matplotlib!=3.6.1,>=3.4->seaborn) (3.1.2)\n",
            "Requirement already satisfied: python-dateutil>=2.7 in /usr/local/lib/python3.10/dist-packages (from matplotlib!=3.6.1,>=3.4->seaborn) (2.8.2)\n",
            "Requirement already satisfied: pytz>=2020.1 in /usr/local/lib/python3.10/dist-packages (from pandas>=1.2->seaborn) (2023.4)\n",
            "Requirement already satisfied: six>=1.5 in /usr/local/lib/python3.10/dist-packages (from python-dateutil>=2.7->matplotlib!=3.6.1,>=3.4->seaborn) (1.16.0)\n",
            "Installing collected packages: seaborn\n",
            "  Attempting uninstall: seaborn\n",
            "    Found existing installation: seaborn 0.13.1\n",
            "    Uninstalling seaborn-0.13.1:\n",
            "      Successfully uninstalled seaborn-0.13.1\n",
            "Successfully installed seaborn-0.13.2\n",
            "Requirement already satisfied: scikit-learn in /usr/local/lib/python3.10/dist-packages (1.2.2)\n",
            "Collecting scikit-learn\n",
            "  Downloading scikit_learn-1.4.1.post1-cp310-cp310-manylinux_2_17_x86_64.manylinux2014_x86_64.whl (12.1 MB)\n",
            "\u001b[2K     \u001b[90m━━━━━━━━━━━━━━━━━━━━━━━━━━━━━━━━━━━━━━━━\u001b[0m \u001b[32m12.1/12.1 MB\u001b[0m \u001b[31m27.5 MB/s\u001b[0m eta \u001b[36m0:00:00\u001b[0m\n",
            "\u001b[?25hRequirement already satisfied: numpy<2.0,>=1.19.5 in /usr/local/lib/python3.10/dist-packages (from scikit-learn) (1.25.2)\n",
            "Requirement already satisfied: scipy>=1.6.0 in /usr/local/lib/python3.10/dist-packages (from scikit-learn) (1.11.4)\n",
            "Requirement already satisfied: joblib>=1.2.0 in /usr/local/lib/python3.10/dist-packages (from scikit-learn) (1.3.2)\n",
            "Requirement already satisfied: threadpoolctl>=2.0.0 in /usr/local/lib/python3.10/dist-packages (from scikit-learn) (3.3.0)\n",
            "Installing collected packages: scikit-learn\n",
            "  Attempting uninstall: scikit-learn\n",
            "    Found existing installation: scikit-learn 1.2.2\n",
            "    Uninstalling scikit-learn-1.2.2:\n",
            "      Successfully uninstalled scikit-learn-1.2.2\n",
            "Successfully installed scikit-learn-1.4.1.post1\n",
            "Requirement already satisfied: matplotlib in /usr/local/lib/python3.10/dist-packages (3.7.1)\n",
            "Collecting matplotlib\n",
            "  Downloading matplotlib-3.8.3-cp310-cp310-manylinux_2_17_x86_64.manylinux2014_x86_64.whl (11.6 MB)\n",
            "\u001b[2K     \u001b[90m━━━━━━━━━━━━━━━━━━━━━━━━━━━━━━━━━━━━━━━━\u001b[0m \u001b[32m11.6/11.6 MB\u001b[0m \u001b[31m34.5 MB/s\u001b[0m eta \u001b[36m0:00:00\u001b[0m\n",
            "\u001b[?25hRequirement already satisfied: contourpy>=1.0.1 in /usr/local/lib/python3.10/dist-packages (from matplotlib) (1.2.0)\n",
            "Requirement already satisfied: cycler>=0.10 in /usr/local/lib/python3.10/dist-packages (from matplotlib) (0.12.1)\n",
            "Requirement already satisfied: fonttools>=4.22.0 in /usr/local/lib/python3.10/dist-packages (from matplotlib) (4.50.0)\n",
            "Requirement already satisfied: kiwisolver>=1.3.1 in /usr/local/lib/python3.10/dist-packages (from matplotlib) (1.4.5)\n",
            "Requirement already satisfied: numpy<2,>=1.21 in /usr/local/lib/python3.10/dist-packages (from matplotlib) (1.25.2)\n",
            "Requirement already satisfied: packaging>=20.0 in /usr/local/lib/python3.10/dist-packages (from matplotlib) (24.0)\n",
            "Requirement already satisfied: pillow>=8 in /usr/local/lib/python3.10/dist-packages (from matplotlib) (9.4.0)\n",
            "Requirement already satisfied: pyparsing>=2.3.1 in /usr/local/lib/python3.10/dist-packages (from matplotlib) (3.1.2)\n",
            "Requirement already satisfied: python-dateutil>=2.7 in /usr/local/lib/python3.10/dist-packages (from matplotlib) (2.8.2)\n",
            "Requirement already satisfied: six>=1.5 in /usr/local/lib/python3.10/dist-packages (from python-dateutil>=2.7->matplotlib) (1.16.0)\n",
            "Installing collected packages: matplotlib\n",
            "  Attempting uninstall: matplotlib\n",
            "    Found existing installation: matplotlib 3.7.1\n",
            "    Uninstalling matplotlib-3.7.1:\n",
            "      Successfully uninstalled matplotlib-3.7.1\n",
            "Successfully installed matplotlib-3.8.3\n"
          ]
        },
        {
          "output_type": "display_data",
          "data": {
            "application/vnd.colab-display-data+json": {
              "pip_warning": {
                "packages": [
                  "matplotlib",
                  "mpl_toolkits"
                ]
              },
              "id": "f1d6508825784580959826e6707514f5"
            }
          },
          "metadata": {}
        },
        {
          "output_type": "stream",
          "name": "stdout",
          "text": [
            "Requirement already satisfied: pandas in /usr/local/lib/python3.10/dist-packages (1.5.3)\n",
            "Collecting pandas\n",
            "  Downloading pandas-2.2.1-cp310-cp310-manylinux_2_17_x86_64.manylinux2014_x86_64.whl (13.0 MB)\n",
            "\u001b[2K     \u001b[90m━━━━━━━━━━━━━━━━━━━━━━━━━━━━━━━━━━━━━━━━\u001b[0m \u001b[32m13.0/13.0 MB\u001b[0m \u001b[31m42.3 MB/s\u001b[0m eta \u001b[36m0:00:00\u001b[0m\n",
            "\u001b[?25hRequirement already satisfied: numpy<2,>=1.22.4 in /usr/local/lib/python3.10/dist-packages (from pandas) (1.25.2)\n",
            "Requirement already satisfied: python-dateutil>=2.8.2 in /usr/local/lib/python3.10/dist-packages (from pandas) (2.8.2)\n",
            "Requirement already satisfied: pytz>=2020.1 in /usr/local/lib/python3.10/dist-packages (from pandas) (2023.4)\n",
            "Collecting tzdata>=2022.7 (from pandas)\n",
            "  Downloading tzdata-2024.1-py2.py3-none-any.whl (345 kB)\n",
            "\u001b[2K     \u001b[90m━━━━━━━━━━━━━━━━━━━━━━━━━━━━━━━━━━━━━━━━\u001b[0m \u001b[32m345.4/345.4 kB\u001b[0m \u001b[31m27.5 MB/s\u001b[0m eta \u001b[36m0:00:00\u001b[0m\n",
            "\u001b[?25hRequirement already satisfied: six>=1.5 in /usr/local/lib/python3.10/dist-packages (from python-dateutil>=2.8.2->pandas) (1.16.0)\n",
            "Installing collected packages: tzdata, pandas\n",
            "  Attempting uninstall: pandas\n",
            "    Found existing installation: pandas 1.5.3\n",
            "    Uninstalling pandas-1.5.3:\n",
            "      Successfully uninstalled pandas-1.5.3\n",
            "\u001b[31mERROR: pip's dependency resolver does not currently take into account all the packages that are installed. This behaviour is the source of the following dependency conflicts.\n",
            "bigframes 0.26.0 requires pandas<2.1.4,>=1.5.0, but you have pandas 2.2.1 which is incompatible.\n",
            "google-colab 1.0.0 requires pandas==1.5.3, but you have pandas 2.2.1 which is incompatible.\u001b[0m\u001b[31m\n",
            "\u001b[0mSuccessfully installed pandas-2.2.1 tzdata-2024.1\n",
            "Collecting qiskit==0.46.0\n",
            "  Downloading qiskit-0.46.0-py3-none-any.whl (9.6 kB)\n",
            "Collecting qiskit-terra==0.46.0 (from qiskit==0.46.0)\n",
            "  Downloading qiskit_terra-0.46.0-cp38-abi3-manylinux_2_17_x86_64.manylinux2014_x86_64.whl (6.3 MB)\n",
            "\u001b[2K     \u001b[90m━━━━━━━━━━━━━━━━━━━━━━━━━━━━━━━━━━━━━━━━\u001b[0m \u001b[32m6.3/6.3 MB\u001b[0m \u001b[31m20.2 MB/s\u001b[0m eta \u001b[36m0:00:00\u001b[0m\n",
            "\u001b[?25hCollecting rustworkx>=0.13.0 (from qiskit-terra==0.46.0->qiskit==0.46.0)\n",
            "  Downloading rustworkx-0.14.2-cp310-cp310-manylinux_2_17_x86_64.manylinux2014_x86_64.whl (2.1 MB)\n",
            "\u001b[2K     \u001b[90m━━━━━━━━━━━━━━━━━━━━━━━━━━━━━━━━━━━━━━━━\u001b[0m \u001b[32m2.1/2.1 MB\u001b[0m \u001b[31m42.7 MB/s\u001b[0m eta \u001b[36m0:00:00\u001b[0m\n",
            "\u001b[?25hRequirement already satisfied: numpy<2,>=1.17 in /usr/local/lib/python3.10/dist-packages (from qiskit-terra==0.46.0->qiskit==0.46.0) (1.25.2)\n",
            "Collecting ply>=3.10 (from qiskit-terra==0.46.0->qiskit==0.46.0)\n",
            "  Downloading ply-3.11-py2.py3-none-any.whl (49 kB)\n",
            "\u001b[2K     \u001b[90m━━━━━━━━━━━━━━━━━━━━━━━━━━━━━━━━━━━━━━━━\u001b[0m \u001b[32m49.6/49.6 kB\u001b[0m \u001b[31m4.9 MB/s\u001b[0m eta \u001b[36m0:00:00\u001b[0m\n",
            "\u001b[?25hRequirement already satisfied: psutil>=5 in /usr/local/lib/python3.10/dist-packages (from qiskit-terra==0.46.0->qiskit==0.46.0) (5.9.5)\n",
            "Requirement already satisfied: scipy>=1.5 in /usr/local/lib/python3.10/dist-packages (from qiskit-terra==0.46.0->qiskit==0.46.0) (1.11.4)\n",
            "Requirement already satisfied: sympy>=1.3 in /usr/local/lib/python3.10/dist-packages (from qiskit-terra==0.46.0->qiskit==0.46.0) (1.12)\n",
            "Collecting dill>=0.3 (from qiskit-terra==0.46.0->qiskit==0.46.0)\n",
            "  Downloading dill-0.3.8-py3-none-any.whl (116 kB)\n",
            "\u001b[2K     \u001b[90m━━━━━━━━━━━━━━━━━━━━━━━━━━━━━━━━━━━━━━━━\u001b[0m \u001b[32m116.3/116.3 kB\u001b[0m \u001b[31m10.2 MB/s\u001b[0m eta \u001b[36m0:00:00\u001b[0m\n",
            "\u001b[?25hRequirement already satisfied: python-dateutil>=2.8.0 in /usr/local/lib/python3.10/dist-packages (from qiskit-terra==0.46.0->qiskit==0.46.0) (2.8.2)\n",
            "Collecting stevedore>=3.0.0 (from qiskit-terra==0.46.0->qiskit==0.46.0)\n",
            "  Downloading stevedore-5.2.0-py3-none-any.whl (49 kB)\n",
            "\u001b[2K     \u001b[90m━━━━━━━━━━━━━━━━━━━━━━━━━━━━━━━━━━━━━━━━\u001b[0m \u001b[32m49.7/49.7 kB\u001b[0m \u001b[31m5.1 MB/s\u001b[0m eta \u001b[36m0:00:00\u001b[0m\n",
            "\u001b[?25hCollecting symengine>=0.11 (from qiskit-terra==0.46.0->qiskit==0.46.0)\n",
            "  Downloading symengine-0.11.0-cp310-cp310-manylinux_2_12_x86_64.manylinux2010_x86_64.whl (39.4 MB)\n",
            "\u001b[2K     \u001b[90m━━━━━━━━━━━━━━━━━━━━━━━━━━━━━━━━━━━━━━━━\u001b[0m \u001b[32m39.4/39.4 MB\u001b[0m \u001b[31m11.6 MB/s\u001b[0m eta \u001b[36m0:00:00\u001b[0m\n",
            "\u001b[?25hRequirement already satisfied: typing-extensions in /usr/local/lib/python3.10/dist-packages (from qiskit-terra==0.46.0->qiskit==0.46.0) (4.10.0)\n",
            "Requirement already satisfied: six>=1.5 in /usr/local/lib/python3.10/dist-packages (from python-dateutil>=2.8.0->qiskit-terra==0.46.0->qiskit==0.46.0) (1.16.0)\n",
            "Collecting pbr!=2.1.0,>=2.0.0 (from stevedore>=3.0.0->qiskit-terra==0.46.0->qiskit==0.46.0)\n",
            "  Downloading pbr-6.0.0-py2.py3-none-any.whl (107 kB)\n",
            "\u001b[2K     \u001b[90m━━━━━━━━━━━━━━━━━━━━━━━━━━━━━━━━━━━━━━━━\u001b[0m \u001b[32m107.5/107.5 kB\u001b[0m \u001b[31m10.6 MB/s\u001b[0m eta \u001b[36m0:00:00\u001b[0m\n",
            "\u001b[?25hRequirement already satisfied: mpmath>=0.19 in /usr/local/lib/python3.10/dist-packages (from sympy>=1.3->qiskit-terra==0.46.0->qiskit==0.46.0) (1.3.0)\n",
            "Installing collected packages: ply, symengine, rustworkx, pbr, dill, stevedore, qiskit-terra, qiskit\n",
            "Successfully installed dill-0.3.8 pbr-6.0.0 ply-3.11 qiskit-0.46.0 qiskit-terra-0.46.0 rustworkx-0.14.2 stevedore-5.2.0 symengine-0.11.0\n"
          ]
        }
      ],
      "source": [
        "!pip install --upgrade seaborn\n",
        "!pip install --upgrade scikit-learn\n",
        "!pip install --upgrade matplotlib\n",
        "!pip install --upgrade pandas\n",
        "%pip install qiskit==0.46.0\n"
      ]
    },
    {
      "cell_type": "code",
      "source": [
        "import numpy as np\n",
        "%matplotlib inline\n",
        "import matplotlib.pyplot as plt\n",
        "import seaborn as sns\n",
        "import pandas as pd\n",
        "from sklearn.decomposition import TruncatedSVD\n",
        "from sklearn.manifold import TSNE\n",
        "from qiskit import *\n",
        "import numpy as np\n",
        "import time\n",
        "from google.colab import drive\n",
        "drive.mount('/content/gdrive')\n"
      ],
      "metadata": {
        "id": "6Yz8actl-Ixn"
      },
      "execution_count": null,
      "outputs": []
    },
    {
      "cell_type": "code",
      "source": [
        "%pip install qiskit==0.46.0\n"
      ],
      "metadata": {
        "id": "rV0fSMrA1g09"
      },
      "execution_count": null,
      "outputs": []
    },
    {
      "cell_type": "code",
      "source": [
        "image_size = 28 # width and length are equal\n",
        "train_data = np.loadtxt(\"/content/gdrive/MyDrive/mnist_test.csv\", delimiter=\",\",skiprows=1)\n",
        "test_data = np.loadtxt(\"/content/gdrive/MyDrive/mnist_test.csv\", delimiter=\",\",skiprows=1)"
      ],
      "metadata": {
        "id": "ADwLzwYnD4Wf"
      },
      "execution_count": null,
      "outputs": []
    },
    {
      "cell_type": "code",
      "source": [
        "image = train_data[:, 1:][1].reshape((image_size, image_size))\n",
        "plt.imshow(image,cmap=\"Greys\")\n",
        "plt.show()\n"
      ],
      "metadata": {
        "id": "3MZVQC8_MH8p"
      },
      "execution_count": null,
      "outputs": []
    },
    {
      "cell_type": "code",
      "source": [
        "#Extracting features and labels from the dataset and truncating the dataset to 10,000 datapoints\n",
        "train_data_features = train_data[:10000, 1:]\n",
        "train_data_labels = train_data[:10000, :1].reshape(10000,)\n",
        "\n",
        "# Using SVD to reduce dimensions to 10\n",
        "tsvd = TruncatedSVD(n_components=10)\n",
        "X_SVD = tsvd.fit_transform(train_data_features)\n",
        "\n",
        "# Use t-SNE technique to reduce dimensions to 2\n",
        "np.random.seed(0)\n",
        "tsne = TSNE(n_components=2)\n",
        "train_data_features_reduced = tsne.fit_transform(X_SVD)"
      ],
      "metadata": {
        "id": "1CPe6G2WN-gw"
      },
      "execution_count": null,
      "outputs": []
    },
    {
      "cell_type": "code",
      "source": [
        "# function to help plot the 2-D dataset\n",
        "def plotdataset(X, Y, c1, c2, N):\n",
        "    lbl1 = f'Component {c1}'\n",
        "    lbl2 = f'Component {c2}'\n",
        "    df = pd.DataFrame({lbl1:X[:N,c1], lbl2:X[:N,c2], 'label':Y[:N]})\n",
        "    sns.lmplot(data=df, x=lbl1, y=lbl2, fit_reg=False, hue='label', scatter_kws={'alpha':0.5})"
      ],
      "metadata": {
        "id": "5F6dD94sOC7c"
      },
      "execution_count": null,
      "outputs": []
    },
    {
      "cell_type": "code",
      "source": [
        "plotdataset(train_data_features_reduced, train_data_labels, 0, 1, N=2000)"
      ],
      "metadata": {
        "id": "bHhf0fHkOHo3"
      },
      "execution_count": null,
      "outputs": []
    },
    {
      "cell_type": "code",
      "source": [
        "zero_datapoints_array = [] #an array of the data points containing value 0\n",
        "one_datapoints_array = []# an array of the data points containing value 1\n",
        "for i in range(10000):\n",
        "    if train_data_labels[i] == 0:                   # extracting zeros\n",
        "        zero_datapoints_array.append(train_data_features_reduced[i])\n",
        "\n",
        "for i in range(10000):\n",
        "    if train_data_labels[i] == 1:                   # extracting ones\n",
        "        one_datapoints_array.append(train_data_features_reduced[i])\n",
        "\n",
        "zero_datapoints_array = np.array(zero_datapoints_array)\n",
        "one_datapoints_array = np.array(one_datapoints_array)\n",
        "\n",
        "def normalize(arr, max_val, n):\n",
        "    a = np.divide(arr, max_val)\n",
        "    return a + n\n",
        "\n",
        "zero_datapoints_normalized = normalize(zero_datapoints_array, 100, 1)\n",
        "one_datapoints_normalized = normalize(one_datapoints_array, 100, 1)"
      ],
      "metadata": {
        "id": "77tdbxhsOMrC"
      },
      "execution_count": null,
      "outputs": []
    },
    {
      "cell_type": "code",
      "source": [
        "from qiskit.circuit.library import ZZFeatureMap, ZFeatureMap, PauliFeatureMap\n",
        "feature_dim = 2\n",
        "pauli_feature_map = PauliFeatureMap(feature_dimension=feature_dim, reps=1, paulis = ['Z','X','ZY'])\n",
        "pauli_feature_map.draw()"
      ],
      "metadata": {
        "id": "VQGGzWEtOpYr"
      },
      "execution_count": null,
      "outputs": []
    },
    {
      "cell_type": "code",
      "source": [
        "\n",
        "from qiskit.circuit.library import RealAmplitudes\n",
        "\n",
        "num_qubits = 2\n",
        "\n",
        "variational_circ = RealAmplitudes(num_qubits, entanglement='full', reps=3)\n"
      ],
      "metadata": {
        "id": "0u4qXB6BOs3U"
      },
      "execution_count": null,
      "outputs": []
    },
    {
      "cell_type": "code",
      "source": [
        "from qiskit.circuit.library import EfficientSU2\n",
        "var_circuit = EfficientSU2(feature_dim, reps=2)"
      ],
      "metadata": {
        "id": "WDWuTvmCO3sS"
      },
      "execution_count": null,
      "outputs": []
    },
    {
      "cell_type": "code",
      "source": [
        "from qiskit.circuit import QuantumCircuit, ParameterVector\n",
        "from qiskit.circuit.library import UGate\n",
        "\n",
        "num_qubits = 3\n",
        "iter = 1\n",
        "\n",
        "x = ParameterVector('x', length=num_qubits)\n",
        "custom_circ = QuantumCircuit(num_qubits)\n",
        "\n",
        "# Defining the parametric circuit (inside the for loop for repetition)\n",
        "for _ in range(iter):\n",
        "    for i in range(num_qubits):\n",
        "        custom_circ.rx(x[i], i)\n",
        "    for i in range(num_qubits):\n",
        "        for j in range(i + 1, num_qubits):\n",
        "            custom_circ.cx(i, j)\n",
        "            custom_circ.append(UGate(theta=x[i] * x[j], phi=0, lam=0).control(1), [i, j])\n",
        "            custom_circ.cx(i, j)\n",
        "\n",
        "# Visualize the circuit\n",
        "custom_circ.draw()\n"
      ],
      "metadata": {
        "id": "-FP0WyrzO6Tb"
      },
      "execution_count": null,
      "outputs": []
    },
    {
      "cell_type": "code",
      "source": [
        "train_size = 20\n",
        "test_size = 10\n",
        "dp_size_zero = 5\n",
        "dp_size_one = 5\n",
        "\n",
        "zero_train = zero_datapoints_normalized[:train_size]\n",
        "one_train = one_datapoints_normalized[:train_size]\n",
        "\n",
        "zero_test = zero_datapoints_normalized[train_size + 1:train_size + test_size + 1]\n",
        "one_test = one_datapoints_normalized[train_size + 1:train_size + test_size + 1]\n",
        "\n",
        "training_input = {'A':zero_train, 'B':one_train}\n",
        "test_input = {'A':zero_test, 'B':one_test}\n",
        "\n",
        "# datapoints is our validation set\n",
        "datapoints = []\n",
        "dp_zero = zero_datapoints_normalized[train_size + test_size + 2:train_size + test_size + 2 + dp_size_zero]\n",
        "dp_one = one_datapoints_normalized[train_size + test_size + 2:train_size + test_size + 2 + dp_size_one]\n",
        "datapoints.append(np.concatenate((dp_zero, dp_one)))\n",
        "dp_y = np.array([0, 0, 0, 0, 0, 1, 1, 1, 1, 1])\n",
        "datapoints.append(dp_y)\n",
        "class_to_label = {'A': 0, 'B': 1}"
      ],
      "metadata": {
        "id": "iDidhLJnO-SD"
      },
      "execution_count": null,
      "outputs": []
    },
    {
      "cell_type": "code",
      "source": [
        "%pip install pylatexenc"
      ],
      "metadata": {
        "id": "lUjcLZGL20RM"
      },
      "execution_count": null,
      "outputs": []
    },
    {
      "cell_type": "code",
      "source": [
        "%pip install qiskit-machine-learning"
      ],
      "metadata": {
        "id": "LnWlDlGcPFHv"
      },
      "execution_count": null,
      "outputs": []
    },
    {
      "cell_type": "code",
      "source": [
        "\n",
        "%pip install qiskit-optimization\n"
      ],
      "metadata": {
        "id": "3CuFEZ5cPIZf"
      },
      "execution_count": null,
      "outputs": []
    },
    {
      "cell_type": "code",
      "source": [
        "%pip install qiskit_algorithms"
      ],
      "metadata": {
        "id": "ZjqWOnIEPPSh"
      },
      "execution_count": null,
      "outputs": []
    },
    {
      "cell_type": "code",
      "source": [
        "seed = 10598\n",
        "feature_dim = zero_train.shape[1]\n",
        "\n",
        "feature_map = ZZFeatureMap(feature_dimension=feature_dim, reps=2, entanglement='linear')\n",
        "feature_map.draw()"
      ],
      "metadata": {
        "id": "Q5UWN_69PCO5"
      },
      "execution_count": null,
      "outputs": []
    },
    {
      "cell_type": "code",
      "source": [
        "%pip install dwave-neal\n",
        "%pip install docplex\n"
      ],
      "metadata": {
        "id": "fk826sYUPTvR"
      },
      "execution_count": null,
      "outputs": []
    },
    {
      "cell_type": "code",
      "source": [
        "from neal import SimulatedAnnealingSampler\n",
        "\n",
        "from docplex.mp.model import Model\n",
        "from qiskit_algorithms.optimizers import COBYLA\n",
        "from qiskit.primitives import Sampler\n",
        "optimizer = COBYLA(maxiter=10)\n",
        "\n",
        "from qiskit.primitives import Sampler\n",
        "\n",
        "sampler = Sampler()"
      ],
      "metadata": {
        "id": "OqUW6F-cPcP4"
      },
      "execution_count": null,
      "outputs": []
    },
    {
      "cell_type": "code",
      "source": [
        "from qiskit.circuit.library import EfficientSU2, RealAmplitudes\n",
        "\n",
        "var_circuit = EfficientSU2(feature_dim, reps=2)"
      ],
      "metadata": {
        "id": "92IWy7USPk8D"
      },
      "execution_count": null,
      "outputs": []
    },
    {
      "cell_type": "code",
      "source": [
        "from qiskit.circuit.library import ZZFeatureMap\n",
        "X_train = np.loadtxt(\"/content/gdrive/MyDrive/mnist_test.csv\", delimiter=\",\",skiprows=1)  # Example loading\n",
        "\n",
        "num_features = X.shape[1]\n",
        "\n",
        "feature_map = ZZFeatureMap(feature_dimension=num_features, reps=2)\n",
        "feature_map.decompose().draw(output=\"mpl\", fold=15)\n"
      ],
      "metadata": {
        "id": "4T7lfoy5LCvc"
      },
      "execution_count": null,
      "outputs": []
    },
    {
      "cell_type": "code",
      "source": [],
      "metadata": {
        "id": "FxZ4_ZwsuT2o"
      },
      "execution_count": null,
      "outputs": []
    },
    {
      "cell_type": "code",
      "source": [
        "pip install qiskit-machine-learning\n"
      ],
      "metadata": {
        "id": "Yqu-PAbc3Oq3"
      },
      "execution_count": null,
      "outputs": []
    },
    {
      "cell_type": "code",
      "source": [
        "!pip install qiskit-machine-learning\n"
      ],
      "metadata": {
        "id": "9e0hpGhQtBqs"
      },
      "execution_count": null,
      "outputs": []
    },
    {
      "cell_type": "code",
      "source": [
        "!pip install qiskit-terra\n",
        "!pip install qiskit-ibmq-provider\n",
        "!pip install array_to_latex\n"
      ],
      "metadata": {
        "id": "-p75Ri07Bhfk"
      },
      "execution_count": null,
      "outputs": []
    },
    {
      "cell_type": "code",
      "source": [
        "from qiskit import QuantumCircuit, transpile, Aer\n",
        "from qiskit.tools.visualization import plot_histogram\n",
        "from qiskit.circuit import Gate, QuantumCircuit, QuantumRegister, ClassicalRegister, Parameter\n",
        "import array_to_latex\n",
        "from qiskit.quantum_info import Statevector\n",
        "from qiskit.circuit.library import RealAmplitudes\n",
        "import numpy as np\n",
        "import matplotlib.pyplot as plt"
      ],
      "metadata": {
        "id": "L0PXC8wkBQCh"
      },
      "execution_count": null,
      "outputs": []
    },
    {
      "cell_type": "code",
      "source": [
        "from matplotlib import pyplot as plt\n",
        "from IPython.display import clear_output\n",
        "import numpy as np\n",
        "objective_func_vals = []\n",
        "plt.rcParams[\"figure.figsize\"] = (12, 6)\n",
        "from qiskit.circuit.library import RealAmplitudes\n",
        "X_train = np.loadtxt(\"/content/gdrive/MyDrive/mnist_test.csv\", delimiter=\",\",skiprows=1)\n",
        "num_features = X_train.shape[1]\n",
        "\n",
        "ansatz = RealAmplitudes(num_qubits=num_features, reps=3)\n",
        "ansatz.decompose().draw(output=\"mpl\", fold=20)\n",
        "\n",
        "def callback_graph(weights, obj_func_eval):\n",
        "    clear_output(wait=True)\n",
        "    objective_func_vals.append(obj_func_eval)\n",
        "    plt.title(\"Objective function value against iteration\")\n",
        "    plt.xlabel(\"Iteration\")\n",
        "    plt.ylabel(\"Objective function value\")\n",
        "    plt.plot(range(len(objective_func_vals)), objective_func_vals)\n",
        "    plt.show()\n",
        "import time\n",
        "from qiskit_machine_learning.algorithms.classifiers import VQC\n",
        "from qiskit.circuit.library import TwoLocal\n",
        "feature_map = TwoLocal(num_qubits=num_features, reps=3, entanglement='linear')\n",
        "\n",
        "vqc1 = VQC(\n",
        "    feature_map=feature_map,\n",
        "    ansatz=ansatz,\n",
        "    optimizer=optimizer,\n",
        "    callback=callback_graph,\n",
        ")\n",
        "y_train=np.loadtxt(\"/content/gdrive/MyDrive/mnist_test.csv\", delimiter=\",\",skiprows=1)\n",
        "# clear objective value history\n",
        "objective_func_vals = []\n",
        "\n",
        "start = time.time()\n",
        "vqc1.fit(X_train, y_train)\n",
        "elapsed = time.time() - start\n",
        "\n",
        "print(f\"Training time: {round(elapsed)} seconds\")"
      ],
      "metadata": {
        "id": "utubn5DrP0A-"
      },
      "execution_count": null,
      "outputs": []
    },
    {
      "cell_type": "code",
      "source": [
        "import numpy as np\n",
        "\n",
        "# Load your processed MNIST data into X_train (replace with your loading method)\n",
        "X_train = np.loadtxt(\"/content/gdrive/MyDrive/mnist_test.csv\", delimiter=\",\",skiprows=1)  # Example loading\n",
        "\n",
        "# Extract number of features\n",
        "num_features = X_train.shape[1]\n",
        "print (num_features)"
      ],
      "metadata": {
        "id": "0uD7HnCA0eDy"
      },
      "execution_count": null,
      "outputs": []
    },
    {
      "cell_type": "code",
      "source": [
        "result = vqc.run(quantum_instance)\n",
        "\n",
        "print(\"testing accuracy: {}\".format(result['testing_accuracy']))\n",
        "print(\"prediction of datapoints:\")\n",
        "print(\"Actual: {}\".format(map_label_to_class_name(datapoints[1], vqc.label_to_class)))\n",
        "print(\"prediction:   {}\".format(result['predicted_classes']))"
      ],
      "metadata": {
        "id": "Scn4dg49RzKL"
      },
      "execution_count": null,
      "outputs": []
    },
    {
      "cell_type": "code",
      "source": [
        "from matplotlib import pyplot as plt\n",
        "from IPython.display import clear_output\n",
        "import numpy as np\n",
        "objective_func_vals = []\n",
        "plt.rcParams[\"figure.figsize\"] = (12, 6)\n",
        "from qiskit.circuit.library import RealAmplitudes\n",
        "X_train = np.loadtxt(\"/content/gdrive/MyDrive/mnist_test.csv\", delimiter=\",\",skiprows=1)\n",
        "num_features = X_train.shape[1]\n",
        "\n",
        "ansatz = RealAmplitudes(num_qubits=num_features, reps=3)\n",
        "ansatz.decompose().draw(output=\"mpl\", fold=20)\n",
        "\n",
        "def callback_graph(weights, obj_func_eval):\n",
        "    clear_output(wait=True)\n",
        "    objective_func_vals.append(obj_func_eval)\n",
        "    plt.title(\"Objective function value against iteration\")\n",
        "    plt.xlabel(\"Iteration\")\n",
        "    plt.ylabel(\"Objective function value\")\n",
        "    plt.plot(range(len(objective_func_vals)), objective_func_vals)\n",
        "    plt.show()\n",
        "import time\n",
        "from qiskit_machine_learning.algorithms.classifiers import VQC\n",
        "from qiskit.circuit.library import TwoLocal\n",
        "feature_map = TwoLocal(num_qubits=num_features, reps=3, entanglement='linear')\n",
        "\n",
        "vqc1 = VQC(\n",
        "    feature_map=feature_map,\n",
        "    ansatz=ansatz,\n",
        "    optimizer=optimizer,\n",
        "    callback=callback_graph,\n",
        ")\n",
        "y_train=np.loadtxt(\"/content/gdrive/MyDrive/mnist_test.csv\", delimiter=\",\",skiprows=1)\n",
        "# clear objective value history\n",
        "objective_func_vals = []\n",
        "\n",
        "start = time.time()\n",
        "vqc1.fit(X_train, y_train)\n",
        "elapsed = time.time() - start\n",
        "\n",
        "print(f\"Training time: {round(elapsed)} seconds\")"
      ],
      "metadata": {
        "id": "wZO3BGpSuVps"
      },
      "execution_count": null,
      "outputs": []
    }
  ]
}